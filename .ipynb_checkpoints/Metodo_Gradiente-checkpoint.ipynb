{
 "cells": [
  {
   "cell_type": "code",
   "execution_count": 1,
   "id": "e6248a90",
   "metadata": {},
   "outputs": [],
   "source": [
    "import numpy as np"
   ]
  },
  {
   "cell_type": "code",
   "execution_count": 4,
   "id": "f6bb2648",
   "metadata": {},
   "outputs": [],
   "source": [
    "def gradiente(A, b, x, iteracoes): # A: Matriz; b= vetor solução da questão; x = vetor inicial(nulo); iteracoes: para o for.\n",
    "  r = b - A.dot(x) # r é o resíduo, ou resto. A.dot(x) multiplica a matriz A pelo vetor X, que nesse caso é nulo.\n",
    "  for i in range(iteracoes):\n",
    "    t = np.inner(np.array(r).T,np.array(r).T)/ np.inner(np.array(r).T, np.array(A.dot(r)).T) # É preciso transformar os vetores\n",
    "    x_prox = x + t*r                                                                         # coluna em vetores linha, por isso\n",
    "    r = r - t*(A.dot(r))                                                                     # utilizo a transposta.\n",
    "    x = x_prox\n",
    "    print(f\"Iteração {i + 1}, direção {t}, resultado {x}, residuo {r}\")      # t é um número float. x e r são vetores coluna.\n",
    "  \n",
    "  #return x,r"
   ]
  },
  {
   "cell_type": "code",
   "execution_count": 5,
   "id": "b811d06e",
   "metadata": {},
   "outputs": [
    {
     "name": "stdout",
     "output_type": "stream",
     "text": [
      "Iteração 1, direção [[0.4]], resultado [[ 1.6]\n",
      " [-1.6]], residuo [[0.8]\n",
      " [0.8]]\n",
      "Iteração 2, direção [[2.]], resultado [[ 3.2000000e+00]\n",
      " [-8.8817842e-16]], residuo [[ 0.8]\n",
      " [-0.8]]\n",
      "Iteração 3, direção [[0.4]], resultado [[ 3.52]\n",
      " [-0.32]], residuo [[0.16]\n",
      " [0.16]]\n",
      "Iteração 4, direção [[2.]], resultado [[3.84]\n",
      " [0.  ]], residuo [[ 0.16]\n",
      " [-0.16]]\n",
      "Iteração 5, direção [[0.4]], resultado [[ 3.904]\n",
      " [-0.064]], residuo [[0.032]\n",
      " [0.032]]\n",
      "Iteração 6, direção [[2.]], resultado [[3.96800000e+00]\n",
      " [3.60822483e-16]], residuo [[ 0.032]\n",
      " [-0.032]]\n",
      "Iteração 7, direção [[0.4]], resultado [[ 3.9808]\n",
      " [-0.0128]], residuo [[0.0064]\n",
      " [0.0064]]\n",
      "Iteração 8, direção [[2.]], resultado [[3.99360000e+00]\n",
      " [3.79904441e-16]], residuo [[ 0.0064]\n",
      " [-0.0064]]\n",
      "Iteração 9, direção [[0.4]], resultado [[ 3.99616e+00]\n",
      " [-2.56000e-03]], residuo [[0.00128]\n",
      " [0.00128]]\n",
      "Iteração 10, direção [[2.]], resultado [[3.99872000e+00]\n",
      " [3.84674931e-16]], residuo [[ 0.00128]\n",
      " [-0.00128]]\n"
     ]
    }
   ],
   "source": [
    "matriz = np.array([[1, -1], [-1, 2]])\n",
    "vetor_resultado = np.array([[4],[-4]])\n",
    "x = np.array([[0], [0]])\n",
    "gradiente(matriz, vetor_resultado,x, 10)"
   ]
  },
  {
   "cell_type": "code",
   "execution_count": null,
   "id": "46830930",
   "metadata": {},
   "outputs": [],
   "source": []
  }
 ],
 "metadata": {
  "kernelspec": {
   "display_name": "Python 3 (ipykernel)",
   "language": "python",
   "name": "python3"
  },
  "language_info": {
   "codemirror_mode": {
    "name": "ipython",
    "version": 3
   },
   "file_extension": ".py",
   "mimetype": "text/x-python",
   "name": "python",
   "nbconvert_exporter": "python",
   "pygments_lexer": "ipython3",
   "version": "3.9.13"
  }
 },
 "nbformat": 4,
 "nbformat_minor": 5
}
